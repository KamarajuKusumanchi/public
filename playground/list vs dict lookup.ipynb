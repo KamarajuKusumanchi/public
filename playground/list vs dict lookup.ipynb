{
 "cells": [
  {
   "cell_type": "code",
   "execution_count": 1,
   "metadata": {},
   "outputs": [],
   "source": [
    "from random import randint,choice\n",
    "from string import ascii_letters\n",
    "\n",
    "def rand_string(L):\n",
    "    # return a string of L ascii letters [a..zA..Z]\n",
    "    return ''.join((choice(ascii_letters) for _ in range(L)))\n",
    "\n",
    "def rand_vstring(Lmax):\n",
    "    # return a string of variable length with maximum L characters\n",
    "    return rand_string(randint(1,Lmax))\n",
    "\n",
    "def rand_vstrings(N, Lmax):\n",
    "    # return N strings with maximum L characters in each\n",
    "    return [rand_vstring(Lmax) for _ in range(N)]"
   ]
  },
  {
   "cell_type": "code",
   "execution_count": 2,
   "metadata": {},
   "outputs": [
    {
     "name": "stdout",
     "output_type": "stream",
     "text": [
      "1591911514.09155 1591911514.094553 0.0030028820037841797\n",
      "1591911514.1095824 1591911514.1095824 0.0\n"
     ]
    }
   ],
   "source": [
    "from time import time, sleep\n",
    "N=30000; Lmax=1000; univ = rand_vstrings(N, Lmax)\n",
    "st = time(); univ[N-1] in univ; end = time(); array_lookup_time = end - st\n",
    "print(st, end, array_lookup_time)\n",
    "duniv = {k:1 for k in univ}\n",
    "st = time(); univ[N-1] in duniv; end = time(); dict_lookup_time = end - st\n",
    "print(st, end, dict_lookup_time)"
   ]
  }
 ],
 "metadata": {
  "kernelspec": {
   "display_name": "Python 3",
   "language": "python",
   "name": "python3"
  },
  "language_info": {
   "codemirror_mode": {
    "name": "ipython",
    "version": 3
   },
   "file_extension": ".py",
   "mimetype": "text/x-python",
   "name": "python",
   "nbconvert_exporter": "python",
   "pygments_lexer": "ipython3",
   "version": "3.8.3"
  }
 },
 "nbformat": 4,
 "nbformat_minor": 4
}
