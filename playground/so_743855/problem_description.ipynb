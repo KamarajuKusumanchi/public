{
 "cells": [
  {
   "cell_type": "markdown",
   "id": "4dc36e37-095c-453e-aeff-08d700bd1c71",
   "metadata": {},
   "source": [
    "https://unix.stackexchange.com/questions/743855/convert-only-all-uppercase-lines-to-lower-case\n",
    "\n",
    "Convert only all-uppercase lines to lower-case\n",
    "\n",
    "Given\n",
    "\n",
    "One, Two.\n",
    "OnE, Two.\n",
    "ONE, TWO.\n",
    "\n",
    "replace only the lines with all upper-case lettters to lower-case so that we get:\n",
    "\n",
    "One, Two.\n",
    "OnE, Two.\n",
    "one, two."
   ]
  }
 ],
 "metadata": {
  "kernelspec": {
   "display_name": "Python 3 (ipykernel)",
   "language": "python",
   "name": "python3"
  },
  "language_info": {
   "codemirror_mode": {
    "name": "ipython",
    "version": 3
   },
   "file_extension": ".py",
   "mimetype": "text/x-python",
   "name": "python",
   "nbconvert_exporter": "python",
   "pygments_lexer": "ipython3",
   "version": "3.11.3"
  }
 },
 "nbformat": 4,
 "nbformat_minor": 5
}
