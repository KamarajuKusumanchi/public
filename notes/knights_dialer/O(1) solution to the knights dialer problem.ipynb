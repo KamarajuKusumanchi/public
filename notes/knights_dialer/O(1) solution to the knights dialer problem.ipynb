{
 "cells": [
  {
   "cell_type": "markdown",
   "metadata": {},
   "source": [
    "In https://alexgolec.dev/knights-dialer-logarithmic-time-edition/ the author, Alex Golec, presents a logarithmic time, O(log n), solution. But I think we can do better. The final result can be obtained in O(1) itself.\n",
    "\n",
    "The idea is to first get the eigen value decomposition of A:\n",
    "A = V * D * V^-1\n",
    "where V is the eigen vector matrix and D is the diagonal matrix with eigen values along the diagonal.\n",
    "\n",
    "Then the power of the matrix (A^n) can be obtained by simply doing\n",
    "A^n = V * D^n * V^-1\n",
    "\n",
    "Since D is a digonal matrix, D^n can be evaluated in O(1) operation w.r.t. n (we just have to raise each eigen value by the nth power.)\n",
    "\n",
    "So the total number of operations is independent of n thus giving O(1)."
   ]
  },
  {
   "cell_type": "code",
   "execution_count": 1,
   "metadata": {},
   "outputs": [
    {
     "name": "stdout",
     "output_type": "stream",
     "text": [
      "[[0 0 0 0 1 0 1 0 0 0]\n",
      " [0 0 0 0 0 0 1 0 1 0]\n",
      " [0 0 0 0 0 0 0 1 0 1]\n",
      " [0 0 0 1 0 0 0 0 1 0]\n",
      " [1 0 0 1 0 0 0 0 0 1]\n",
      " [0 0 0 0 0 0 0 0 0 0]\n",
      " [1 1 0 0 0 0 0 1 0 0]\n",
      " [0 0 1 0 0 0 1 0 0 0]\n",
      " [0 1 0 1 0 0 0 0 0 0]\n",
      " [0 0 1 0 1 0 0 0 0 0]]\n"
     ]
    }
   ],
   "source": [
    "# A is the neighbors_map for states 0 through 9\n",
    "import numpy as np\n",
    "A = np.array([[0, 0, 0, 0, 1, 0, 1, 0, 0, 0], [0, 0, 0, 0, 0, 0, 1, 0, 1, 0], [0, 0, 0, 0, 0, 0, 0, 1, 0, 1], \n",
    "              [0, 0, 0, 1, 0, 0, 0, 0, 1, 0], [1, 0, 0, 1, 0, 0, 0, 0, 0, 1], [0, 0, 0, 0, 0, 0, 0, 0, 0, 0], \n",
    "              [1, 1, 0, 0, 0, 0, 0, 1,0, 0], [0, 0, 1, 0, 0, 0, 1, 0, 0, 0], [0, 1, 0, 1, 0, 0, 0, 0, 0 ,0],\n",
    "              [0, 0, 1, 0, 1, 0, 0, 0, 0, 0]])\n",
    "print(A)"
   ]
  },
  {
   "cell_type": "code",
   "execution_count": 2,
   "metadata": {},
   "outputs": [
    {
     "name": "stdout",
     "output_type": "stream",
     "text": [
      "[1. 1. 1. 1. 1. 1. 1. 1. 1. 1.]\n"
     ]
    }
   ],
   "source": [
    "x = np.ones(10)\n",
    "print(x)"
   ]
  },
  {
   "cell_type": "code",
   "execution_count": 3,
   "metadata": {},
   "outputs": [
    {
     "name": "stdout",
     "output_type": "stream",
     "text": [
      "[2. 2. 2. 2. 3. 0. 3. 2. 2. 2.]\n"
     ]
    }
   ],
   "source": [
    "# position vector after 1 hop\n",
    "N = 1\n",
    "p = A.dot(x)\n",
    "print(p)"
   ]
  },
  {
   "cell_type": "code",
   "execution_count": 4,
   "metadata": {},
   "outputs": [
    {
     "name": "stdout",
     "output_type": "stream",
     "text": [
      "[3794. 3026. 2578. 1750. 3559.    0. 4126. 3332. 2011. 3026.]\n"
     ]
    }
   ],
   "source": [
    "# position vector after 10 hops\n",
    "N = 10\n",
    "p = np.linalg.matrix_power(A, 10).dot(x)\n",
    "print(p)"
   ]
  },
  {
   "cell_type": "code",
   "execution_count": 5,
   "metadata": {},
   "outputs": [],
   "source": [
    "# Verify that we get the same result by computing the eigen vectors and eigen values of A upfront\n",
    "# and then raise the eigen values by the number of hops.\n",
    "D, V = np.linalg.eig(A)\n",
    "# print(D)\n",
    "# print(V)"
   ]
  },
  {
   "cell_type": "code",
   "execution_count": 6,
   "metadata": {},
   "outputs": [
    {
     "name": "stdout",
     "output_type": "stream",
     "text": [
      "[2. 2. 2. 2. 3. 0. 3. 2. 2. 2.]\n"
     ]
    }
   ],
   "source": [
    "# position vector after 1 hop using eigen value decomposition\n",
    "N = 1\n",
    "p = V.dot(np.diag(D**N)).dot(np.linalg.inv(V)).dot(x)\n",
    "print(p)"
   ]
  },
  {
   "cell_type": "code",
   "execution_count": 7,
   "metadata": {},
   "outputs": [
    {
     "name": "stdout",
     "output_type": "stream",
     "text": [
      "[3794. 3026. 2578. 1750. 3559.    0. 4126. 3332. 2011. 3026.]\n"
     ]
    }
   ],
   "source": [
    "# position vector after 10 hops using eigen value decomposition\n",
    "N = 10\n",
    "p = V.dot(np.diag(D**N)).dot(np.linalg.inv(V)).dot(x)\n",
    "print(p)"
   ]
  }
 ],
 "metadata": {
  "kernelspec": {
   "display_name": "Python 3",
   "language": "python",
   "name": "python3"
  },
  "language_info": {
   "codemirror_mode": {
    "name": "ipython",
    "version": 3
   },
   "file_extension": ".py",
   "mimetype": "text/x-python",
   "name": "python",
   "nbconvert_exporter": "python",
   "pygments_lexer": "ipython3",
   "version": "3.6.12"
  }
 },
 "nbformat": 4,
 "nbformat_minor": 4
}
